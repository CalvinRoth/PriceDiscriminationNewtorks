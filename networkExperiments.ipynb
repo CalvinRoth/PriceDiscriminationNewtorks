{
 "cells": [
  {
   "cell_type": "code",
   "execution_count": 21,
   "id": "42def213-f677-4f6d-991f-478f1cfc7f42",
   "metadata": {
    "tags": []
   },
   "outputs": [],
   "source": [
    "import numpy as np\n",
    "import numpy.linalg as lin\n",
    "import networkx as nx\n",
    "import scipy\n",
    "import matplotlib.pyplot as plt\n",
    "from scipy.stats import chi2_contingency "
   ]
  },
  {
   "cell_type": "markdown",
   "id": "037f9747-cd43-4253-89fd-c0d9255f2961",
   "metadata": {},
   "source": [
    "# Spectral norm from degree sequences\n",
    "In this notebook we demonstrate experimently that given a random Erdos-Renyi graph G, if we create a new graph that only using the in-degree and out-degree of every node then the spectral norm of this graph is will be clustered around the spectral norm of G with very tight variance"
   ]
  },
  {
   "cell_type": "markdown",
   "id": "df9c8baa-c39d-408d-b920-b4418d9ae901",
   "metadata": {},
   "source": [
    "# Prelimaries \n",
    "First we implement the powerIteration method in order to quickly estimate the largest eigenvalue"
   ]
  },
  {
   "cell_type": "code",
   "execution_count": 22,
   "id": "f931c951-ce30-4eb1-80a6-4087ff305ed4",
   "metadata": {
    "tags": []
   },
   "outputs": [],
   "source": [
    "def powerIteration(A, iters=500):\n",
    "    n = A.shape[0]\n",
    "    b = np.random.randn(n,)\n",
    "    b = b / lin.norm(b, ord=2)\n",
    "    for i in range(iters):\n",
    "        bnew = A @ b\n",
    "        b = bnew / lin.norm(bnew, ord = 2)\n",
    "    return b\n",
    "\n",
    "def snorm(A):\n",
    "    b = powerIteration(A.T @ A)\n",
    "    return np.sqrt((b.T @ A.T @ A @ b))"
   ]
  },
  {
   "cell_type": "code",
   "execution_count": 23,
   "id": "d0177b79-397a-44d0-875a-16f4000ca31a",
   "metadata": {},
   "outputs": [
    {
     "data": {
      "text/plain": [
       "9.52551809156511"
      ]
     },
     "execution_count": 23,
     "metadata": {},
     "output_type": "execute_result"
    }
   ],
   "source": [
    "b = np.zeros((3,2))\n",
    "b[0,:] = [1,2]\n",
    "b[1,:] = [3,4]\n",
    "b[2,:] = [5,6]\n",
    "snorm(b)"
   ]
  },
  {
   "cell_type": "markdown",
   "id": "d347d75c-11e7-4a30-8921-b06d5717b811",
   "metadata": {},
   "source": [
    "## Parameter Setup\n",
    "\n",
    "Here we set some parameters: the number of nodes, the probability of link formation, and the the number of trials to generate. The way this experiment works is that we first generate a random graph with the specificied n and p, extract the in degree and out degree information, and generate new graphs exact(or as exact as possible) with the same degree sequence. The hypothesis is that knowing the exact degree information is more informatin than knowing just the degree sequence. "
   ]
  },
  {
   "cell_type": "code",
   "execution_count": 73,
   "id": "cae53884-95ec-4d91-aa24-6a383b9aff59",
   "metadata": {},
   "outputs": [],
   "source": [
    "n = 2000\n",
    "\n",
    "p1 = 2*np.log(n)/n\n",
    "p2 = 1/n\n",
    "steps = 30\n",
    "delta = (p1-p2)/steps\n",
    "Ps = [p2 + i*delta for i in range(steps)]\n",
    "n_trials = 250\n",
    "ones = np.ones((n,))\n",
    "I = np.eye(n,n)\n",
    "rho = 0.9\n"
   ]
  },
  {
   "cell_type": "markdown",
   "id": "d94143d2-9853-411d-96b3-5b29cf98a5fa",
   "metadata": {},
   "source": [
    "Below is the function used to create Erdos Renyi graphs and the assoicated guesses. "
   ]
  },
  {
   "cell_type": "code",
   "execution_count": 74,
   "id": "4b35a419-30de-4331-add5-c71b0d67943c",
   "metadata": {},
   "outputs": [],
   "source": [
    "def ERfactory(n, p, n_trials):\n",
    "    G = nx.generators.fast_gnp_random_graph(n,p,directed=True)\n",
    "    A = nx.adj_matrix(G)\n",
    "    sequence_in = [d for n,d in G.in_degree()]\n",
    "    sequence_out = [d for n,d in G.out_degree()]\n",
    "    guesses = []\n",
    "    for i in range(n_trials):\n",
    "        guess = nx.adj_matrix(\n",
    "            nx.directed_configuration_model(sequence_in, sequence_out, create_using=nx.DiGraph)\n",
    "        )\n",
    "        guesses.append(guess)\n",
    "    return [G, A, guesses]\n",
    "\n",
    "def scaleFactory(n,alpha,n_trials):\n",
    "    G = nx.generators.scale_free_graph(n)\n",
    "    A = nx.adj_matrix(G)\n",
    "    sequence_in = [d for n,d in G.in_degree()]\n",
    "    sequence_out = [d for n,d in G.out_degree()]\n",
    "    guesses = []\n",
    "    for i in range(n_trials):\n",
    "        guess = nx.adj_matrix(\n",
    "            nx.directed_configuration_model(sequence_in, sequence_out, create_using=nx.DiGraph)\n",
    "        )\n",
    "        guesses.append(guess)\n",
    "    return [G, A, guesses]    \n",
    "    "
   ]
  },
  {
   "cell_type": "code",
   "execution_count": 75,
   "id": "77f91718-8c2c-4dd3-be36-97090e342378",
   "metadata": {},
   "outputs": [],
   "source": [
    "#[Ger, A, guessesER] = ERfactory(n,p, n_trials)\n",
    "full_trials = [ [ERfactory(n,i, n_trials), i] for i in Ps]\n"
   ]
  },
  {
   "cell_type": "markdown",
   "id": "d7b672d6-6c9e-40ac-8140-c8d344c39a97",
   "metadata": {},
   "source": [
    "# Optimal Profits\n",
    "The first experiment is determining what the optimal profit is for G and for each of the guessed graphs. This is assuming that we have full network information but assuming we held the full information for that graph. If the hypothesis is correct then since the degree sequence has a lot of information then the profits shouldn't change by much despite these being different graphs. There are you models, the optimal profit with price discrimation and without and their formulas are  given by\n",
    "\n",
    "    With price discrimination:     $1^T * (I - 2p/||G+G^T|| G)^{-1} * 1$ \n",
    "    \n",
    "    Without price discrimination:  $1^T * (I - [/||G+G^{T}|| (G+G^{T})^{-1} * 1$\n",
    "where 1 is the ones vector. "
   ]
  },
  {
   "cell_type": "markdown",
   "id": "08a91162-fa97-4f13-aa70-a8b187b19d9a",
   "metadata": {
    "jupyter": {
     "source_hidden": true
    },
    "tags": []
   },
   "source": [
    "## Optimal Profit under Uniform pricing\n",
    "So let's calculate these terms starting with uniform pricing"
   ]
  },
  {
   "cell_type": "code",
   "execution_count": 8,
   "id": "4dc2c3fb-9215-4973-9138-cfdcfe142d34",
   "metadata": {
    "jupyter": {
     "source_hidden": true
    },
    "tags": []
   },
   "outputs": [],
   "source": [
    "def profitUniform(A, rho):\n",
    "    n = A.shape[0]\n",
    "    alpha = 2*rho/snorm(A + A.T)\n",
    "    temp = I - alpha* A\n",
    "    temp = lin.inv(temp)\n",
    "    return (ones.T @ temp @ ones)[0,0]\n",
    "\n",
    "guessProfitUniform = [profitUniform(guess, rho) for guess in guessesER]\n",
    "\n"
   ]
  },
  {
   "cell_type": "code",
   "execution_count": 9,
   "id": "37819787-0ae2-466f-84a0-ba9fd53631ac",
   "metadata": {
    "jupyter": {
     "source_hidden": true
    },
    "tags": []
   },
   "outputs": [
    {
     "name": "stdout",
     "output_type": "stream",
     "text": [
      "7170.681166785545\n"
     ]
    }
   ],
   "source": [
    "## actual is just a 1x1 matrix. Access that only element\n",
    "realProfitUniform = profitUniform(A,rho)\n",
    "print(realProfitUniform)\n"
   ]
  },
  {
   "cell_type": "code",
   "execution_count": 13,
   "id": "43e9ea5f-df70-4e8c-b686-37a6e1627554",
   "metadata": {
    "collapsed": true,
    "jupyter": {
     "outputs_hidden": true,
     "source_hidden": true
    },
    "tags": []
   },
   "outputs": [
    {
     "data": {
      "image/png": "[encoded data removed]",
      "text/plain": [
       "<Figure size 432x288 with 1 Axes>"
      ]
     },
     "metadata": {
      "needs_background": "light"
     },
     "output_type": "display_data"
    }
   ],
   "source": [
    "plt.clf()\n",
    "plt.cla()\n",
    "plt.close()\n",
    "histData = np.array(guessProfitUniform)\n",
    "histData = histData\n",
    "plt.title(\"Uniform pricing profit and frequency\")\n",
    "plt.xlabel(\"Profit\")\n",
    "plt.ylabel(\"Count observed\")\n",
    "plt.hist(histData, label=\"Random Graphs\", bins=500)\n",
    "yMax = plt.ylim()[1]\n",
    "[x0, x1] = plt.xlim()\n",
    "#x0 = min(x0, hProfitUniform) - 2\n",
    "#x1 = max(x1, hProfitUniform) + 2\n",
    "plt.axis([x0, x1, 0, yMax])\n",
    "plt.vlines(realProfitUniform, color=\"red\",linestyles=\"dashed\", ymin=0, ymax=yMax, label=\"True graph\")\n",
    "#plt.vlines(hProfitUniform, color=\"green\", linestyles=\"dashed\", ymin=0, ymax=yMax, label=\"H graph\")\n",
    "plt.legend();\n",
    "#plt.savefig(\"uniform.png\")"
   ]
  },
  {
   "cell_type": "markdown",
   "id": "b0908fde-3061-434c-a23d-cdfe45d771e5",
   "metadata": {},
   "source": [
    "# Notes\n",
    "Run a chi-test and do more extensive testing\n",
    "Compare vector differences($\\ell_1, \\ell_2$) \n",
    "\n",
    "Look at power-law\n",
    "\n",
    "Look at different degree prob. Esp 1/n\n",
    "\n",
    "Look at \"foward error\" for profit under G's optimal with guessed graph\n",
    "\n",
    "Lots trial graphs, plot variance against p"
   ]
  },
  {
   "cell_type": "code",
   "execution_count": 16,
   "id": "af17714d-fb13-4060-8da4-c49bf08d8e53",
   "metadata": {
    "collapsed": true,
    "jupyter": {
     "outputs_hidden": true,
     "source_hidden": true
    },
    "tags": []
   },
   "outputs": [
    {
     "name": "stdout",
     "output_type": "stream",
     "text": [
      "Under uniform pricing\n",
      "Average of guess 7212.61814087162\n",
      "Actual profit 7170.681166785545\n",
      "Relative Error between guess average and actual profit 0.0058483947494871215\n"
     ]
    }
   ],
   "source": [
    "print(\"Under uniform pricing\")\n",
    "print(\"Average of guess\", np.average(guessProfitUniform))\n",
    "print(\"Actual profit\", realProfitUniform)\n",
    "print(\"Relative Error between guess average and actual profit\", abs(realProfitUniform -np.average(guessProfitUniform))/realProfitUniform)\n",
    "\n"
   ]
  },
  {
   "cell_type": "markdown",
   "id": "107bca5f-820c-4e7f-a04c-9ad65ce0d570",
   "metadata": {
    "jupyter": {
     "source_hidden": true
    },
    "tags": []
   },
   "source": [
    "# Without uniform pricing"
   ]
  },
  {
   "cell_type": "code",
   "execution_count": 18,
   "id": "0fb57b03-ee49-4fb7-9f5c-4723d8ca94ea",
   "metadata": {
    "jupyter": {
     "source_hidden": true
    },
    "tags": []
   },
   "outputs": [],
   "source": [
    "rho = 0.9\n",
    "def profitDiscrim(A, rho):\n",
    "    n = A.shape[0]\n",
    "    alpha = rho / snorm(A + A.T)\n",
    "    inner = I - alpha*(A + A.T)\n",
    "    return (ones.T @ lin.inv(inner) @ ones)[0,0]\n",
    "trueProfit = profitDiscrim(A, rho)\n",
    "guessedProfit = [ profitDiscrim(g, rho) for g in guessesER]"
   ]
  },
  {
   "cell_type": "code",
   "execution_count": 19,
   "id": "cfe009f2-8037-4e36-9e15-5ffd0c97d34c",
   "metadata": {
    "collapsed": true,
    "jupyter": {
     "outputs_hidden": true,
     "source_hidden": true
    },
    "tags": []
   },
   "outputs": [
    {
     "data": {
      "image/png": "[encoded data removed]",
      "text/plain": [
       "<Figure size 432x288 with 1 Axes>"
      ]
     },
     "metadata": {
      "needs_background": "light"
     },
     "output_type": "display_data"
    }
   ],
   "source": [
    "histData = np.array(guessedProfit)\n",
    "histData = histData\n",
    "plt.title(\"Nonuniform pricing profit and frequency\")\n",
    "plt.xlabel(\"Profit\")\n",
    "plt.ylabel(\"Count observed\")\n",
    "plt.hist(histData, label=\"Random Graphs\")\n",
    "yMax = plt.ylim()[1]\n",
    "[x0, x1] = plt.xlim()\n",
    "x0 = min(x0, trueProfit) * .98\n",
    "x1 = max(x1, trueProfit) * 1.02\n",
    "plt.axis([x0, x1, 0, yMax])\n",
    "plt.vlines(trueProfit, color=\"red\",linestyles=\"dashed\", ymin=0, ymax=yMax, label=\"True graph\")\n",
    "#plt.vlines(hProfitDiscrim, color=\"green\", linestyles=\"dashed\", ymin=0, ymax=yMax, label=\"H graph\")\n",
    "plt.legend();"
   ]
  },
  {
   "cell_type": "code",
   "execution_count": 20,
   "id": "2a591193-221d-479d-a6c5-ac676537963f",
   "metadata": {
    "collapsed": true,
    "jupyter": {
     "outputs_hidden": true,
     "source_hidden": true
    },
    "tags": []
   },
   "outputs": [
    {
     "data": {
      "text/plain": [
       "18.645200949708936"
      ]
     },
     "execution_count": 20,
     "metadata": {},
     "output_type": "execute_result"
    }
   ],
   "source": [
    "def chi2(E, O):\n",
    "    arr = sum( [(sample - E)**2 for sample in O])\n",
    "    return arr/E\n",
    "\n",
    "chi2(trueProfit, guessedProfit)"
   ]
  },
  {
   "cell_type": "code",
   "execution_count": null,
   "id": "1968db99-8b0c-4232-aa46-6611b5eed9d2",
   "metadata": {
    "jupyter": {
     "source_hidden": true
    },
    "tags": []
   },
   "outputs": [],
   "source": []
  },
  {
   "cell_type": "code",
   "execution_count": 296,
   "id": "a6423221-a8af-4882-b50b-0456ba4fc442",
   "metadata": {
    "collapsed": true,
    "jupyter": {
     "outputs_hidden": true,
     "source_hidden": true
    },
    "tags": []
   },
   "outputs": [
    {
     "name": "stdout",
     "output_type": "stream",
     "text": [
      "Under non-uniform pricing\n",
      "Average of guess 4399.619316709874\n",
      "Actual profit 2284.294582535076\n",
      "Relative Error between guess average and actual profit 0.9260297469283675\n"
     ]
    }
   ],
   "source": [
    "print(\"Under non-uniform pricing\")\n",
    "print(\"Average of guess\", np.average(guessedProfit))\n",
    "print(\"Actual profit\", trueProfit)\n",
    "print(\"Relative Error between guess average and actual profit\", abs(trueProfit-np.average(guessedProfit))/trueProfit)"
   ]
  },
  {
   "cell_type": "markdown",
   "id": "6f3fd07e-9ec8-477a-9b94-e5e54bcd4456",
   "metadata": {},
   "source": [
    "# What Next\n",
    "We have shown experimently that for both the optimal price with and without discrimation, knowing the exact degree sequence has a much tighter variance than the original graph versus a random graph with the same distribution. \n",
    "\n",
    "But what we would really love to see is the optimal price vector also doesn't change by too much. Alternatively as Jiali suggested are there pricing policies that perform well enough for any graph with the same degree sequence. \n",
    "\n",
    "## How the optimal price vectors change"
   ]
  },
  {
   "cell_type": "code",
   "execution_count": 54,
   "id": "cff2bf3b-b28b-4896-a49a-e8f9715cf0fe",
   "metadata": {},
   "outputs": [],
   "source": [
    "def priceVector(rho, A,a,c ):\n",
    "    n = A.shape[0]\n",
    "    \n",
    "    ident = np.eye(n,n)\n",
    "    ones = np.ones((n,1))\n",
    "    ApA = A + A.T\n",
    "    eig = snorm(ApA)\n",
    "    alpha = rho / eig\n",
    "    central = lin.inv(ident - alpha*ApA) @ ones\n",
    "    dif = A - A.T\n",
    "    return ((a+c)/2)*ones +  ((a-c)*alpha/2) * dif @ central\n",
    "    #return alpha * dif @ central \n",
    "\n",
    "def applyPriceVector(A, rho, v, a, c):\n",
    "    n = A.shape[0]\n",
    "    ident = np.eye(n,n)\n",
    "    ones = np.ones((n,1))\n",
    "    ApA = A + A.T\n",
    "    consumption = (2*rho/snorm(ApA)) * A\n",
    "    consumption = 0.5 * lin.inv(ident - consumption)\n",
    "    consumption = consumption @ (a*ones - v)\n",
    "    return ((v - c*ones).T @ consumption)[0,0]"
   ]
  },
  {
   "cell_type": "code",
   "execution_count": 83,
   "id": "fe753b5e-5e30-4f53-b17d-ff71da84be13",
   "metadata": {},
   "outputs": [],
   "source": [
    "a = 4\n",
    "c= 2\n",
    "rho = 0.9 \n",
    "def averageGap(A, tests, rho, a, c):\n",
    "    optimalVector = priceVector(rho, A, a, c)\n",
    "    profitatGuess = [applyPriceVector(g, rho, optimalVector, a,c) for g in tests]\n",
    "    trueProfit = applyPriceVector(A, rho, optimalVector, a,c)\n",
    "    return [trueProfit - np.average(profitatGuess)]\n",
    "\n",
    "def averageGapReverse(A,tests, rho, a,c):\n",
    "    profitWithGuess = [applyPriceVector(A, rho, priceVector(rho,i, a,c), a,c) for i in tests]\n",
    "    trueProfit = applyPriceVector(A, rho, priceVector(rho,A,a,c), a, c)\n",
    "    return trueProfit - np.average(profitWithGuess)"
   ]
  },
  {
   "cell_type": "code",
   "execution_count": 63,
   "id": "8f8505e6-e15d-45fa-9db6-176d5ff18625",
   "metadata": {},
   "outputs": [],
   "source": [
    "gap_stats = [averageGap(full_trials[i][0][1], full_trials[i][0][2],rho, a, c)  for i in range(steps)]\n"
   ]
  },
  {
   "cell_type": "code",
   "execution_count": null,
   "id": "2ffd8f68-440d-467c-9340-254cecbcfbaa",
   "metadata": {},
   "outputs": [],
   "source": [
    "gap2_stats = [averageGapReverse(full_trials[i][0][1], full_trials[i][0][2], rho, a,c) for i in range(steps)]"
   ]
  },
  {
   "cell_type": "code",
   "execution_count": null,
   "id": "9bebd335-628c-4cbf-85c1-b91b30c52d27",
   "metadata": {},
   "outputs": [],
   "source": [
    "gaps = [i[0] for i in gap_stats]\n",
    "plt.title(\"Average profit gap vs p\")\n",
    "plt.xlabel(\"p\")\n",
    "plt.ylabel(\"Gap\")\n",
    "plt.plot(Ps, gaps, label=\"Gap Size\")\n",
    "plt.legend()"
   ]
  },
  {
   "cell_type": "code",
   "execution_count": 78,
   "id": "459d6c5e-6b0d-4c86-b4d8-7cf765c19bfe",
   "metadata": {},
   "outputs": [
    {
     "ename": "NameError",
     "evalue": "name 'profit' is not defined",
     "output_type": "error",
     "traceback": [
      "\u001b[0;31m---------------------------------------------------------------------------\u001b[0m",
      "\u001b[0;31mNameError\u001b[0m                                 Traceback (most recent call last)",
      "\u001b[0;32m<ipython-input-78-7fea536188e8>\u001b[0m in \u001b[0;36m<module>\u001b[0;34m\u001b[0m\n\u001b[1;32m      7\u001b[0m \u001b[0myMax\u001b[0m \u001b[0;34m=\u001b[0m \u001b[0mplt\u001b[0m\u001b[0;34m.\u001b[0m\u001b[0mylim\u001b[0m\u001b[0;34m(\u001b[0m\u001b[0;34m)\u001b[0m\u001b[0;34m[\u001b[0m\u001b[0;36m1\u001b[0m\u001b[0;34m]\u001b[0m\u001b[0;34m\u001b[0m\u001b[0;34m\u001b[0m\u001b[0m\n\u001b[1;32m      8\u001b[0m \u001b[0;34m[\u001b[0m\u001b[0mx0\u001b[0m\u001b[0;34m,\u001b[0m \u001b[0mx1\u001b[0m\u001b[0;34m]\u001b[0m \u001b[0;34m=\u001b[0m \u001b[0mplt\u001b[0m\u001b[0;34m.\u001b[0m\u001b[0mxlim\u001b[0m\u001b[0;34m(\u001b[0m\u001b[0;34m)\u001b[0m\u001b[0;34m\u001b[0m\u001b[0;34m\u001b[0m\u001b[0m\n\u001b[0;32m----> 9\u001b[0;31m \u001b[0mx1\u001b[0m \u001b[0;34m=\u001b[0m \u001b[0mprofit\u001b[0m \u001b[0;34m*\u001b[0m \u001b[0;36m1.001\u001b[0m\u001b[0;34m\u001b[0m\u001b[0;34m\u001b[0m\u001b[0m\n\u001b[0m\u001b[1;32m     10\u001b[0m \u001b[0mplt\u001b[0m\u001b[0;34m.\u001b[0m\u001b[0maxis\u001b[0m\u001b[0;34m(\u001b[0m\u001b[0;34m[\u001b[0m\u001b[0mx0\u001b[0m\u001b[0;34m,\u001b[0m \u001b[0mx1\u001b[0m\u001b[0;34m,\u001b[0m \u001b[0;36m0\u001b[0m\u001b[0;34m,\u001b[0m \u001b[0myMax\u001b[0m\u001b[0;34m]\u001b[0m\u001b[0;34m)\u001b[0m\u001b[0;34m\u001b[0m\u001b[0;34m\u001b[0m\u001b[0m\n\u001b[1;32m     11\u001b[0m \u001b[0mplt\u001b[0m\u001b[0;34m.\u001b[0m\u001b[0mvlines\u001b[0m\u001b[0;34m(\u001b[0m\u001b[0mprofit\u001b[0m\u001b[0;34m,\u001b[0m \u001b[0mcolor\u001b[0m\u001b[0;34m=\u001b[0m\u001b[0;34m\"red\"\u001b[0m\u001b[0;34m,\u001b[0m\u001b[0mlinestyles\u001b[0m\u001b[0;34m=\u001b[0m\u001b[0;34m\"dashed\"\u001b[0m\u001b[0;34m,\u001b[0m \u001b[0mymin\u001b[0m\u001b[0;34m=\u001b[0m\u001b[0;36m0\u001b[0m\u001b[0;34m,\u001b[0m \u001b[0mymax\u001b[0m\u001b[0;34m=\u001b[0m\u001b[0myMax\u001b[0m\u001b[0;34m,\u001b[0m \u001b[0mlabel\u001b[0m\u001b[0;34m=\u001b[0m\u001b[0;34m\"True Profit\"\u001b[0m\u001b[0;34m)\u001b[0m\u001b[0;34m\u001b[0m\u001b[0;34m\u001b[0m\u001b[0m\n",
      "\u001b[0;31mNameError\u001b[0m: name 'profit' is not defined"
     ]
    },
    {
     "data": {
      "image/png": "[encoded data removed]",
      "text/plain": [
       "<Figure size 432x288 with 1 Axes>"
      ]
     },
     "metadata": {
      "needs_background": "light"
     },
     "output_type": "display_data"
    }
   ],
   "source": [
    "histData = np.array(gaps)\n",
    "#histData = histData[:,0,0]\n",
    "plt.title(\"Profit applying $v^{(G)}$ to guesses. n = 2500\")\n",
    "plt.xlabel(\"Profit\")\n",
    "plt.ylabel(\"Count observed\")\n",
    "plt.hist(histData, label=\"Random Graphs\")\n",
    "yMax = plt.ylim()[1]\n",
    "[x0, x1] = plt.xlim()\n",
    "x1 = profit * 1.001\n",
    "plt.axis([x0, x1, 0, yMax])\n",
    "plt.vlines(profit, color=\"red\",linestyles=\"dashed\", ymin=0, ymax=yMax, label=\"True Profit\")\n",
    "plt.legend();\n"
   ]
  },
  {
   "cell_type": "code",
   "execution_count": null,
   "id": "7c68cfe0-c826-49d6-ac33-358acfa3ca6d",
   "metadata": {},
   "outputs": [],
   "source": []
  },
  {
   "cell_type": "code",
   "execution_count": null,
   "id": "6ee6e52a-1739-485e-8f93-0b3ec00553c7",
   "metadata": {},
   "outputs": [],
   "source": []
  }
 ],
 "metadata": {
  "kernelspec": {
   "display_name": "Python [conda env:pDL] *",
   "language": "python",
   "name": "conda-env-pDL-py"
  },
  "language_info": {
   "codemirror_mode": {
    "name": "ipython",
    "version": 3
   },
   "file_extension": ".py",
   "mimetype": "text/x-python",
   "name": "python",
   "nbconvert_exporter": "python",
   "pygments_lexer": "ipython3",
   "version": "3.8.10"
  }
 },
 "nbformat": 4,
 "nbformat_minor": 5
}
