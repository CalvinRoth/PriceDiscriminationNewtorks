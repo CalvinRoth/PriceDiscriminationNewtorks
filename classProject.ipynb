{
 "cells": [
  {
   "cell_type": "code",
   "execution_count": null,
   "id": "28dad66d-1244-4a97-8edb-0f2b37a325f5",
   "metadata": {},
   "outputs": [],
   "source": [
    "from __future__ import annotations\n",
    "import numpy as np\n",
    "import numpy.linalg as lin\n",
    "import networkx as nx\n",
    "import scipy\n",
    "import scipy.sparse.linalg as slin\n",
    "import matplotlib.pyplot as plt"
   ]
  },
  {
   "cell_type": "markdown",
   "id": "a84362ea-fcb0-4b91-bb13-9382c1613d2b",
   "metadata": {},
   "source": [
    "#  Basic Functionality \n",
    "\n",
    "Here we supply the essential functions needed for experiments. This includes the ability to find the term relating to the spectral norm which is abstracted in a function because it may change. \n",
    "\n",
    "Also included a generators for ER graphs, the ability to compute the optimal price vector for a graph and the optimal profit of a graph if we were to apply this price vector. "
   ]
  },
  {
   "cell_type": "code",
   "execution_count": 45,
   "metadata": {},
   "outputs": [],
   "source": [
    "# Linear algebra\n",
    "def specNorm(A: np.matrix) -> float:\n",
    "    return lin.norm(A, ord=np.inf)\n",
    "    # return np.sqrt(slin.eigs(A.T @ A, k=1, which=\"LM\", return_eigenvectors=False, tol=1e-10)[0])\n",
    "\n",
    "\n",
    "# Graph makers\n",
    "def makeSimilarGraph(G: nx.DiGraph) -> np.matrix:\n",
    "    \"\"\" Generates the new graph with the same in/out degree as the orginal\n",
    "        -------\n",
    "        Return adj. matrix of graph\n",
    "    \"\"\"\n",
    "    sequence_in = [d for _, d in G.in_degree]\n",
    "    sequence_out = [d for _, d in G.out_degree]\n",
    "    return nx.to_numpy_matrix(\n",
    "        nx.directed_configuration_model(sequence_in, sequence_out, create_using=nx.DiGraph),\n",
    "        dtype=\"d\"\n",
    "    )\n",
    "\n",
    "\n",
    "# Graph Generators\n",
    "def makeERGraph(n: int, p: float) -> np.matrix:\n",
    "    \"\"\" Generates Random Erdos-Renyi Graphs with n vertices and link probability p\n",
    "        ------\n",
    "        return Adjacency graph of matrix and the networkx DiGraph object\n",
    "    \"\"\"\n",
    "    G = nx.generators.fast_gnp_random_graph(n, p, directed=True)\n",
    "    # sortG = sorted(G.in_degree, key=lambda x: x[1], reverse=True)\n",
    "    return nx.to_numpy_matrix(G, dtype=\"d\"), G\n",
    "\n",
    "\n",
    "def centralty(A: np.matrix, rho: float, alpha,k) -> np.matrix:\n",
    "    \"\"\"\n",
    "\n",
    "    Parameters\n",
    "    ----------\n",
    "    A : np matrix\n",
    "    rho : network effect\n",
    "\n",
    "    Returns\n",
    "    -------\n",
    "    Centrality vector as described in paper\n",
    "    \"\"\"\n",
    "    n = A.shape[0]\n",
    "\n",
    "    ident = np.eye(n, n)\n",
    "    ones = np.ones((n, 1))\n",
    "    ApA = A + A.T\n",
    "    eig = specNorm(ApA)\n",
    "    alpha = rho / eig\n",
    "    central = lin.inv(ident - (alpha * ApA))\n",
    "    central = central @ ones  # Checked.  this > 0\n",
    "    return central\n",
    "\n",
    "\n",
    "# Paper related properties\n",
    "def applyPriceVector(A: np.matrix, v: np.matrix, rho: float, a: int | float, c: int | float) -> (float, bool):\n",
    "    \"\"\"\n",
    "\n",
    "    Parameters\n",
    "    ----------\n",
    "    A : Graph\n",
    "    v : price vector\n",
    "    rho : network strength\n",
    "    a : Stand alone strength\n",
    "    c : Marginal cost. Should be less than a\n",
    "\n",
    "    Returns\n",
    "    -------\n",
    "    Profit in this network if prces v were applied.\n",
    "    And if result is valid or not\n",
    "    \"\"\"\n",
    "    n = A.shape[0]\n",
    "    ident = np.eye(n, n)\n",
    "    ones = np.ones((n, 1))\n",
    "    ApA = A + A.T\n",
    "    # spN = specNorm(ApA)  # Sometimes scipy return x+0i, this is to discard warning\n",
    "    alpha = (rho / specNorm(ApA))\n",
    "    consumption = (2 * alpha) * A\n",
    "    consumption = ident - consumption\n",
    "    consumption = 0.5 * lin.inv(consumption)  # This is entirely in the range [0,1] ^ checked\n",
    "\n",
    "    consumption = consumption @ ((a * ones) - v)\n",
    "    valid = 1\n",
    "    if (np.min(consumption) < 0):\n",
    "        valid = 0\n",
    "    return ((v - (c * ones)).T @ consumption)[0, 0], valid\n",
    "\n",
    "\n",
    "def priceVector(A: np.matrix, rho: float, a: int | float, c: int | float,k = None) -> np.matrix:\n",
    "    \"\"\"\n",
    "    Parameters\n",
    "    ----------\n",
    "    A : Network\n",
    "    rho : network strength\n",
    "    a : stand alone util\n",
    "    c : marginal cost. Should be less than a\n",
    "\n",
    "    Returns\n",
    "    -------\n",
    "    Vector reprsenting what price to charge individual i\n",
    "    \"\"\"\n",
    "    n = A.shape[0]\n",
    "    ones = np.ones((n, 1))\n",
    "    alpha = rho / specNorm(A + A.T)\n",
    "    central = centralty(A, rho, alpha,k)  # This should be A not A + A.T because of how centralty function is designed\n",
    "    dif = A - A.T\n",
    "    pv1 = ((a + c) / 2) * ones\n",
    "    pv2 = ((a - c) * alpha * 0.5) * (dif @ central)\n",
    "    return pv1 + pv2\n",
    "\n",
    "\n",
    "def optimalProfit(A: np.matrix, n: int, a: int | float, c: int | float, rho: float):\n",
    "    \"\"\"\n",
    "    Parameters\n",
    "    ----------\n",
    "    A : Network\n",
    "    n : size of network\n",
    "    rho : network strength\n",
    "    a : stand alone util\n",
    "    c : marginal cost. Should be less than a\n",
    "    Returns\n",
    "    -------\n",
    "    True profit. Should be the same as applyPriceVector(A, pricevector(A,...),...)\n",
    "    \"\"\"\n",
    "    one = np.ones((n, 1))\n",
    "    alpha = rho / specNorm(A + A.T)\n",
    "\n",
    "    t1 = lin.inv(np.eye(n, n) - (alpha * (A + A.T)))\n",
    "    total = one.T @ t1 @ one\n",
    "    total = ((a - c) * (a - c) / 8) * total\n",
    "    return np.real(total[0, 0])\n",
    "\n"
   ]
  },
  {
   "cell_type": "markdown",
   "id": "4a031713-f69d-4769-b2c5-842d0977bdec",
   "metadata": {},
   "source": [
    "# Metrics\n",
    "Here are functions used \"one level up\" in terms of abstraction from finding the price vectors. This includes things like computing the fractional regret of a applying a given vector v to a graph instad of its true optimal price vector. "
   ]
  },
  {
   "cell_type": "code",
   "execution_count": 76,
   "id": "408f8566-198e-4580-b78e-092575f7c137",
   "metadata": {
    "jupyter": {
     "source_hidden": true
    },
    "tags": []
   },
   "outputs": [],
   "source": [
    "\n",
    "def fractionalRegret(A, v, n, rho, a, c):\n",
    "    \"\"\"\n",
    "\n",
    "    Parameters\n",
    "    ----------\n",
    "    A : Network\n",
    "    v : price vector to compare to\n",
    "    rho : network strength\n",
    "    n : number of nodes\n",
    "    a : stand alone util\n",
    "    c : marginal cost. Should be less than a\n",
    "\n",
    "    Returns\n",
    "    -------\n",
    "    1 - (profit of A using v)/(profit of A using best choice)\n",
    "    \"\"\"\n",
    "    discrim = optimalProfit(A, n, a, c, rho)  # Optimal profit\n",
    "    # I have check and the formula for optimal profit does match applypricevector(A, pricevector(A,...), params)\n",
    "    appliedProf,v  = applyPriceVector(A, v, rho, a, c) # Profit at v\n",
    "    return 1 - (appliedProf / discrim) , v \n",
    "\n",
    "\n",
    "\n",
    "# Gaps applying price vector of guesses to true graph G\n",
    "def getGapRev(A, test, rho, a, c):\n",
    "    \"\"\" Apply optimal profit price vector guess graph to test graph test and A. Return pair of profits\"\"\"\n",
    "    optimalVector = priceVector(test, rho, a, c)\n",
    "    profitWithGuessV = applyPriceVector(A, optimalVector, rho, a, c)\n",
    "    trueProfit = applyPriceVector(A, priceVector(A, rho, a, c), rho, a, c)\n",
    "    return trueProfit, profitWithGuessV\n",
    "\n",
    "\n",
    "# Applying the true optimal profit vector to guesses\n",
    "# Currently not using because it seems backwards of what I want\n",
    "def getGaps(n, p, rho, a, c, i, results, n_trials):\n",
    "    A, G = makeERGraph(n, p)\n",
    "    results[i] = np.average([getGap(A, makeSimilarGraph(G), rho, a, c) for j in range(n_trials)])\n",
    "    return i\n",
    "\n",
    "\n",
    "# Apply the price vector that each guess produces to the true graph and take average.\n",
    "def getGapsReverse(n, p, rho, a, c, i, results, n_trials):\n",
    "    A, G = makeERGraph(n, p)\n",
    "    results[i] = np.average([getGapRev(A, makeSimilarGraph(G), rho, a, c) for j in range(n_trials)])\n",
    "    return i\n",
    "\n",
    "\n",
    "# Here we apply the average optimal price vector of the guesses to the true graph G\n",
    "# I get a warning about discarding complex values, values should never complex for this problem\n",
    "# and when I check they are all +0i so ?\n",
    "\n",
    "\n",
    "def getAverageGap(n, p, rho, a, c, i, results, n_trials):\n",
    "    A, G = makeERGraph(n, p)\n",
    "    n = A.shape[0]\n",
    "    trueProfit = applyPriceVector(A, priceVector(A, rho, a, c), rho, a, c)\n",
    "    # the average vector initilized with sample size of 1\n",
    "    averageV = priceVector(makeSimilarGraph(G), rho, a, c)\n",
    "    # And another n_trials-1 trials\n",
    "    for j in range(n_trials - 1):\n",
    "        averageV += priceVector(makeSimilarGraph(G), rho, a, c)\n",
    "    averageV /= n_trials  # Scaling\n",
    "    profit, v = applyPriceVector(A, averageV, rho, a, c)\n",
    "    results[i] = np.real(trueProfit - profit)\n"
   ]
  },
  {
   "cell_type": "markdown",
   "id": "8b2f1b70-3ce4-4d09-bf24-50f6194a4ebe",
   "metadata": {},
   "source": [
    "# Tests\n",
    "Here are the collection of various tests we can run. "
   ]
  },
  {
   "cell_type": "code",
   "execution_count": 218,
   "id": "cba8bcfa-e504-47af-bda9-bec31f4b432f",
   "metadata": {},
   "outputs": [],
   "source": [
    "def profitDistribution(n : int, p : float,  n_trials : int, rho : float, a : int | float ,c : int | float):\n",
    "    results = np.zeros(n_trials)\n",
    "    A_true, G_true = makeERGraph(n, p)\n",
    "    trueP = optimalProfit(A_true,n, a, c, rho)\n",
    "    res_par = np.zeros((n_trials,))\n",
    "    res_seq = np.zeros((n_trials,))\n",
    "    valid_par = 0\n",
    "    valid_seq = 0    \n",
    "    for j in range(n_trials):\n",
    "        A_par, G_par = makeERGraph(n,p)\n",
    "        A_seq = makeSimilarGraph(G_true)\n",
    "        v_par = priceVector(A_par, rho, a, c)\n",
    "        v_seq = priceVector(A_seq, rho, a, c)\n",
    "        res_par[j],b0 = applyPriceVector(A_true, v_par, rho, a, c)\n",
    "        res_seq[j],b1 = applyPriceVector(A_true, v_seq, rho, a, c)\n",
    "        valid_par += b0\n",
    "        valid_seq += b1\n",
    "        \n",
    "    return [res_par, res_seq], [valid_par/n_trials, valid_seq/n_trials]\n",
    "\n",
    "\n",
    "def regretDistribution(n : int, p : float,  n_trials : int, rho : float, a : int | float ,c : int | float):\n",
    "    results = np.zeros(n_trials)\n",
    "    A_true, G_true = makeERGraph(n, p)\n",
    "    trueP = optimalProfit(A_true,n, a, c, rho)\n",
    "    res_par = np.zeros((n_trials,))\n",
    "    res_seq = np.zeros((n_trials,))\n",
    "    valid_par = 0\n",
    "    valid_seq = 0    \n",
    "    for j in range(n_trials):\n",
    "        A_par, G_par = makeERGraph(n,p)\n",
    "        A_seq = makeSimilarGraph(G_true)\n",
    "        v_par = priceVector(A_par, rho, a, c)\n",
    "        v_seq = priceVector(A_seq, rho, a, c)\n",
    "        res_par[j],b0 = fractionalRegret(A_true, v_par, n, rho, a, c)\n",
    "        res_seq[j],b1 = fractionalRegret(A_true, v_seq, n, rho, a, c)\n",
    "        valid_par += b0\n",
    "        valid_seq += b1\n",
    "        \n",
    "    return [res_par, res_seq], [valid_par/n_trials, valid_seq/n_trials]\n",
    "\n",
    "def regretAveragedVector(n : int, p : float,  n_trials : int, rho : float, a : int | float ,c : int | float):\n",
    "    results = np.zeros(n_trials)\n",
    "    A_true, G_true = makeERGraph(n, p)\n",
    "    trueP = optimalProfit(A_true,n, a, c, rho)\n",
    "    v_aver = np.zeros((n,1))\n",
    "    res_par = np.zeros((n_trials,))\n",
    "    res_seq = np.zeros((n_trials,))\n",
    "    valid_par = 0\n",
    "    valid_seq = 0    \n",
    "    for j in range(n_trials):\n",
    "        A_par, G_par = makeERGraph(n,p)\n",
    "        A_seq = makeSimilarGraph(G_true)\n",
    "        v_par = priceVector(A_par, rho, a, c)\n",
    "        v_seq = priceVector(A_seq, rho, a, c)\n",
    "        v_aver += v_seq\n",
    "        res_par[j],b0 = fractionalRegret(A_true, v_par, n, rho, a, c)\n",
    "        res_seq[j],b1 = fractionalRegret(A_true, v_seq, n, rho, a, c)\n",
    "        valid_par += b0\n",
    "        valid_seq += b1\n",
    "    v_aver /= n_trials\n",
    "    res_avg, b0 = fractionalRegret(A_true, v_aver, n, rho, a, c)\n",
    "    return [res_par, res_seq, res_avg], [valid_par/n_trials, valid_seq/n_trials]\n",
    "\n",
    "def walkDistribution(n : int, p : float,  n_trials : int, rho : float, a : int | float ,c : int | float,k : int):\n",
    "    results = np.zeros(n_trials)\n",
    "    res = np.zeros((n_trials,))\n",
    "    for j in range(n_trials):\n",
    "        A_true, G_true = makeERGraph(n, p)\n",
    "        trueP = optimalProfit(A_true,n, a, c, rho)\n",
    "        v = priceVector(A_true, rho, a, c,k)\n",
    "        res[j] = fractionalRegret(A_true, v, n, rho, a, c)[0]\n",
    "    return res\n",
    "\n",
    "def rawProfitDistribution(n : int, p : float,  n_trials : int, rho : float, a : int | float ,c : int | float):\n",
    "    results = np.zeros(n_trials)\n",
    "    res_par = []\n",
    "    res_seq = []\n",
    "    A_true, G_true = makeERGraph(n, p)\n",
    "    trueP = optimalProfit(A_true,n, a, c, rho)\n",
    "    for j in range(n_trials):\n",
    "        A_seq = makeSimilarGraph(G_true)\n",
    "        A_par, G_par = makeERGraph(n,p)\n",
    "        v_par = priceVector(A_par, rho, a, c)\n",
    "        v_seq = priceVector(A_seq, rho, a, c)\n",
    "        res_par.append(applyPriceVector(A_true, v_par, rho, a, c)[0])\n",
    "        res_seq.append(applyPriceVector(A_true, v_seq, rho, a, c)[0])\n",
    "    return res_par, res_seq, trueP\n",
    "\n",
    "def priceVectorDifference(n : int, p : float,  n_trials : int, rho : float, a : int | float ,c : int | float, norm = None):\n",
    "    res_par = np.zeros(n_trials)\n",
    "    res_seq = np.zeros(n_trials)\n",
    "    A_true, G_true = makeERGraph(n, p)\n",
    "    v_tre = priceVector(A_true, rho, a, c)\n",
    "    for j in range(n_trials):\n",
    "        A_par, G_par = makeERGraph(n,p)\n",
    "        v_par = priceVector(A_par, rho, a, c)\n",
    "        res_par[j] = np.linalg.norm(v_tre - v_par, ord=norm)\n",
    "        A_seq = makeSimilarGraph(G_true)\n",
    "        v_seq = priceVector(A_seq, rho, a, c)\n",
    "        res_seq[j] = np.linalg.norm(v_tre - v_seq,  ord = norm)\n",
    "    return res_par, res_seq\n",
    "\n"
   ]
  },
  {
   "cell_type": "markdown",
   "metadata": {},
   "source": [
    "# Effects of different Norms\n",
    "Reporting for n=1500, rho=0.9, p=sqrt(log(n))/n, a=5, c=4 the variance of profits and the fraction of valid samples. "
   ]
  },
  {
   "cell_type": "markdown",
   "metadata": {},
   "source": [
    "## Infinity Norm"
   ]
  },
  {
   "cell_type": "code",
   "execution_count": 78,
   "id": "93229087-9fb1-480c-b831-35ed3fa539e4",
   "metadata": {},
   "outputs": [
    {
     "name": "stdout",
     "output_type": "stream",
     "text": [
      "Infinity Norm\n",
      "Same Parameter var 5.530802791207017\n",
      "Same Sequence var 0.00018164659086119313\n",
      "Same Parameter mean 250.7374147202458\n",
      "Same Sequence mean 266.8143721390223\n",
      "Same Parameter ratio 0.98\n",
      "Same Sequence ratio 1.0\n"
     ]
    },
    {
     "data": {
      "text/plain": [
       "(None, None)"
      ]
     },
     "execution_count": 78,
     "metadata": {},
     "output_type": "execute_result"
    }
   ],
   "source": [
    "def specNorm(A: np.matrix) -> float:\n",
    "    return lin.norm(A, ord=np.inf)\n",
    "n = 1500\n",
    "p = np.sqrt(np.log(n))/n\n",
    "n_trials = 50\n",
    "rho = 0.9\n",
    "a = 5\n",
    "c = 4\n",
    "[res_par, res_seq], [ratio_par, ratio_seq] = profitDistribution(n,p,n_trials,  rho, a, c)\n",
    "[regret_par, regret_seq] = regretDistribution(n,p,n_trials,  rho, a, c)\n",
    "print(\"Infinity Norm\")\n",
    "print(\"Same Parameter var\", np.var(res_par)), print(\"Same Sequence var\", np.var(res_seq))\n",
    "print(\"Same Parameter mean\", np.mean(res_par)), print(\"Same Sequence mean\", np.mean(res_seq))\n",
    "print(\"Same Parameter ratio\", ratio_par), print(\"Same Sequence ratio\", ratio_seq)"
   ]
  },
  {
   "cell_type": "markdown",
   "metadata": {},
   "source": [
    "## Frobenieus Norm\n",
    "It appears this norm is 2 large so the network effect is small"
   ]
  },
  {
   "cell_type": "code",
   "execution_count": 83,
   "id": "407e584e-b74f-4b67-a4ad-48c04c962258",
   "metadata": {},
   "outputs": [
    {
     "name": "stdout",
     "output_type": "stream",
     "text": [
      "Frob Norm\n",
      "Same Parameter var 6.055709145972346e-05\n",
      "Same Sequence var 4.395560819121605e-09\n",
      "Same Parameter mean 198.09160610170974\n",
      "Same Sequence mean 198.32122203829078\n",
      "Same Parameter ratio 1.0\n",
      "Same Sequence ratio 1.0\n"
     ]
    },
    {
     "data": {
      "text/plain": [
       "(None, None)"
      ]
     },
     "execution_count": 83,
     "metadata": {},
     "output_type": "execute_result"
    }
   ],
   "source": [
    "def specNorm(A: np.matrix) -> float:\n",
    "    return lin.norm(A)\n",
    "n = 1500\n",
    "p = np.sqrt(np.log(n))/n\n",
    "n_trials = 50\n",
    "rho = 0.9\n",
    "a = 5\n",
    "c = 4\n",
    "[res_par, res_seq], [ratio_par, ratio_seq] = profitDistribution(n,p,n_trials,  rho, a, c)\n",
    "[regret_par, regret_seq] = regretDistribution(n,p,n_trials,  rho, a, c)\n",
    "print(\"Frob Norm\")\n",
    "print(\"Same Parameter var\", np.var(res_par)), print(\"Same Sequence var\", np.var(res_seq))\n",
    "print(\"Same Parameter mean\", np.mean(res_par)), print(\"Same Sequence mean\", np.mean(res_seq))\n",
    "print(\"Same Parameter ratio\", ratio_par), print(\"Same Sequence ratio\", ratio_seq)"
   ]
  },
  {
   "cell_type": "markdown",
   "metadata": {},
   "source": [
    "## 1 Norm"
   ]
  },
  {
   "cell_type": "code",
   "execution_count": 80,
   "metadata": {},
   "outputs": [
    {
     "name": "stdout",
     "output_type": "stream",
     "text": [
      "One Norm\n",
      "Same Parameter var 5.547175927535045\n",
      "Same Sequence var 0.00038423646498515383\n",
      "Same Parameter mean 276.90915529274736\n",
      "Same Sequence mean 298.2748858239605\n",
      "Averager Regret 0.0702081904719786 0.0013039440217975052\n",
      "Variance Regret 9.38475326342792e-05 1.6521638790102961e-09\n",
      "Same Parameter ratio 0.98\n",
      "Same Sequence ratio 1.0\n"
     ]
    },
    {
     "data": {
      "text/plain": [
       "(None, None)"
      ]
     },
     "execution_count": 80,
     "metadata": {},
     "output_type": "execute_result"
    }
   ],
   "source": [
    "def specNorm(A: np.matrix) -> float:\n",
    "    return lin.norm(A, ord=1)\n",
    "n = 1500\n",
    "p = np.sqrt(np.log(n))/n\n",
    "n_trials = 50\n",
    "rho = 0.9\n",
    "a = 5\n",
    "c = 4\n",
    "[res_par, res_seq], [ratio_par, ratio_seq] = profitDistribution(n,p,n_trials,  rho, a, c)\n",
    "[regret_par, regret_seq], [ratio_par, ratio_seq] = regretDistribution(n,p,n_trials,  rho, a, c)\n",
    "print(\"One Norm\")\n",
    "print(\"Same Parameter var\", np.var(res_par)), print(\"Same Sequence var\", np.var(res_seq))\n",
    "print(\"Same Parameter mean\", np.mean(res_par)), print(\"Same Sequence mean\", np.mean(res_seq))\n",
    "print(\"Averager Regret\", np.mean(regret_par), np.mean(regret_seq))\n",
    "print(\"Variance Regret\", np.var(regret_par), np.var(regret_seq))\n",
    "print(\"Same Parameter ratio\", ratio_par), print(\"Same Sequence ratio\", ratio_seq)"
   ]
  },
  {
   "cell_type": "markdown",
   "metadata": {},
   "source": [
    "## Nuclear norm"
   ]
  },
  {
   "cell_type": "code",
   "execution_count": 20,
   "metadata": {},
   "outputs": [],
   "source": [
    "def specNorm(A: np.matrix) -> float:\n",
    "    return lin.norm(A, ord=\"nuc\")\n",
    "n = 1500\n",
    "p = np.sqrt(np.log(n))/n\n",
    "n_trials = 50\n",
    "rho = 0.9\n",
    "a = 5\n",
    "c = 4\n",
    "#[res_par, res_seq], [ratio_par, ratio_seq] = profitDistribution(n,p,n_trials,  rho, a, c)\n",
    "#[regret_par, regret_seq] = regretDistribution(n,p,n_trials,  rho, a, c)\n",
    "#print(\"One Norm\")\n",
    "#print(\"Same Parameter var\", np.var(res_par)), print(\"Same Sequence var\", np.var(res_seq))\n",
    "#print(\"Same Parameter mean\", np.mean(res_par)), print(\"Same Sequence mean\", np.mean(res_seq))\n",
    "#print(\"Same Parameter ratio\", ratio_par), print(\"Same Sequence ratio\", ratio_seq)"
   ]
  },
  {
   "cell_type": "markdown",
   "metadata": {},
   "source": [
    "## 2 Norm\n",
    "This is very confusing and worrying. The results show that under the 2 norm same parameter graphs are likely to be malformed often. Also this code takes much longer to run than the others"
   ]
  },
  {
   "cell_type": "code",
   "execution_count": 21,
   "metadata": {},
   "outputs": [
    {
     "data": {
      "text/plain": [
       "'\\n[res_par, res_seq], [ratio_par, ratio_seq] = profitDistribution(n,p,n_trials,  rho, a, c)\\n[regret_par, regret_seq] = regretDistribution(n,p,n_trials,  rho, a, c)\\nprint(\"2 Norm\")\\nprint(\"Same Parameter var\", np.var(res_par)), print(\"Same Sequence var\", np.var(res_seq))\\nprint(\"Same Parameter mean\", np.mean(res_par)), print(\"Same Sequence mean\", np.mean(res_seq))\\nprint(\"Same Parameter ratio\", ratio_par), print(\"Same Sequence ratio\", ratio_seq)'"
      ]
     },
     "execution_count": 21,
     "metadata": {},
     "output_type": "execute_result"
    }
   ],
   "source": [
    "def specNorm(A: np.matrix) -> float:\n",
    "    return lin.norm(A, ord=2)\n",
    "n = 1500\n",
    "p = np.sqrt(np.log(n))/n\n",
    "n_trials = 50\n",
    "rho = 0.9\n",
    "a = 5\n",
    "c = 4\n",
    "\"\"\"\n",
    "[res_par, res_seq], [ratio_par, ratio_seq] = profitDistribution(n,p,n_trials,  rho, a, c)\n",
    "[regret_par, regret_seq] = regretDistribution(n,p,n_trials,  rho, a, c)\n",
    "print(\"2 Norm\")\n",
    "print(\"Same Parameter var\", np.var(res_par)), print(\"Same Sequence var\", np.var(res_seq))\n",
    "print(\"Same Parameter mean\", np.mean(res_par)), print(\"Same Sequence mean\", np.mean(res_seq))\n",
    "print(\"Same Parameter ratio\", ratio_par), print(\"Same Sequence ratio\", ratio_seq)\"\"\""
   ]
  },
  {
   "cell_type": "markdown",
   "metadata": {},
   "source": [
    "We conclude that seemingly any choice of norm besides 2-norm is sufficient. It is unclear to me if I need to weight these norms in someway to be bigger/smamer."
   ]
  },
  {
   "cell_type": "markdown",
   "metadata": {},
   "source": [
    "# Limited Walk Size\n",
    "One question we have asked is if knowing the degrees of each matrix is sufficient perhaps knowing the reach of each node in two steps is better because it specifies the graph more. Here instead of generating new graphs specificied by this information we will look at the regret using only the true graph but with truncated centralities"
   ]
  },
  {
   "cell_type": "code",
   "execution_count": 160,
   "metadata": {},
   "outputs": [],
   "source": [
    "def specNorm(A: np.matrix) -> float:\n",
    "    return lin.norm(A, ord=np.inf)\n",
    "def centralty(A: np.matrix, rho: float, alpha, k=None) -> np.matrix:\n",
    "    \"\"\"\n",
    "\n",
    "    Parameters\n",
    "    ----------\n",
    "    A : np matrix\n",
    "    rho : network effect\n",
    "    k : size of walk to take in network\n",
    "\n",
    "    Returns\n",
    "    -------\n",
    "    Centrality vector as described in paper\n",
    "    \"\"\"\n",
    "    n = A.shape[0]\n",
    "\n",
    "    if k is None:\n",
    "\n",
    "        ident = np.eye(n, n)\n",
    "        ones = np.ones((n, 1))\n",
    "        ApA = A + A.T\n",
    "        eig = specNorm(ApA)\n",
    "        alpha = rho / eig\n",
    "        central = lin.inv(ident - (alpha * ApA))\n",
    "        central = central @ ones  # Checked.  this > 0\n",
    "        return central\n",
    "    else:\n",
    "        one = np.ones((n,1))\n",
    "        ApA = A + A.T\n",
    "        alpha = rho / specNorm(ApA)\n",
    "        total = np.eye(n,n)\n",
    "        base = alpha * ApA\n",
    "        old = 0 \n",
    "        for i in range(1,k+1):\n",
    "            old = total\n",
    "            total = total + np.linalg.matrix_power(base, i)\n",
    "            dif = total - old\n",
    "            if np.linalg.norm(dif) < 1e-6:\n",
    "                print(\"Converged with i = \", i)\n",
    "                break\n",
    "        return total @ one   "
   ]
  },
  {
   "cell_type": "code",
   "execution_count": 164,
   "metadata": {},
   "outputs": [
    {
     "name": "stdout",
     "output_type": "stream",
     "text": [
      "Converged with i =  132\n"
     ]
    },
    {
     "data": {
      "image/png": "[encoded data removed]",
      "text/plain": [
       "<Figure size 432x288 with 1 Axes>"
      ]
     },
     "metadata": {
      "needs_background": "light"
     },
     "output_type": "display_data"
    }
   ],
   "source": [
    "def specNorm(A: np.matrix) -> float:\n",
    "    return lin.norm(A, ord=2)\n",
    "n = 1000\n",
    "p = np.sqrt(np.log(n))/n\n",
    "n_trials = 1\n",
    "rho = 0.9\n",
    "a = 5\n",
    "c = 4\n",
    "ks = [1,2,3,5,10,20, 30, 50, 100, 150]\n",
    "walk_loss = []\n",
    "for k in ks:\n",
    "    v = walkDistribution(n,p,n_trials,  rho, a, c, k)\n",
    "    walk_loss.append(np.mean(v))   \n",
    "\n"
   ]
  },
  {
   "cell_type": "code",
   "execution_count": 173,
   "metadata": {},
   "outputs": [
    {
     "data": {
      "image/png": "[encoded data removed]",
      "text/plain": [
       "<Figure size 432x288 with 1 Axes>"
      ]
     },
     "metadata": {
      "needs_background": "light"
     },
     "output_type": "display_data"
    }
   ],
   "source": [
    "plt.plot(ks, walk_loss, color=\"green\", label=\"Walk Loss\")\n",
    "plt.xlabel(\"Walk size\")\n",
    "plt.ylabel(\"Average Loss\")\n",
    "plt.title(\"Average Regret of Walk\")\n",
    "plt.vlines(x=132, linestyles='dashed', ymin=0, ymax=0.35, label=\"Converged\")\n",
    "plt.legend()\n",
    "plt.savefig(\"results/walk_loss.png\")"
   ]
  },
  {
   "cell_type": "markdown",
   "metadata": {},
   "source": [
    "As we see there is very little advanage in increasing the step size and as a ratio a sizable tighening of variance. Also notice when k = None the result is essentially 0(it should be exactly 0 with perfect arithemtic)"
   ]
  },
  {
   "cell_type": "markdown",
   "metadata": {},
   "source": [
    "## Regret as a function of N\n"
   ]
  },
  {
   "cell_type": "code",
   "execution_count": 259,
   "metadata": {},
   "outputs": [
    {
     "name": "stdout",
     "output_type": "stream",
     "text": [
      "p is  0.00036666666666666667\n",
      "p is  0.0006224580580611201\n",
      "p is  0.0008782494494555737\n",
      "p is  0.0011340408408500272\n",
      "p is  0.0013898322322444807\n",
      "p is  0.0016456236236389343\n",
      "p is  0.0019014150150333878\n",
      "p is  0.0021572064064278415\n",
      "p is  0.002412997797822295\n",
      "p is  0.0026687891892167486\n"
     ]
    }
   ],
   "source": [
    "def specNorm(A: np.matrix) -> float:\n",
    "    return lin.norm(A, ord=1)\n",
    "\n",
    "vars_par = []\n",
    "vars_seq = []\n",
    "regrets_par = []\n",
    "regrets_seq = []\n",
    "ns = [100, 500, 1000, 1500, 2000, 2500, 3000, 3500, 4000]\n",
    "p0 = 1.1/n\n",
    "p1 = np.log(n)/n\n",
    "steps = 10\n",
    "ps = np.linspace(p0, p1, steps)\n",
    "n = 1500\n",
    "for p in ps:\n",
    "    print(\"p is \", p)\n",
    "    n_trials = 15\n",
    "    rho = 0.9\n",
    "    a = 5\n",
    "    c = 4\n",
    "    [res_par, res_seq], [ratio_par, ratio_seq] = profitDistribution(n,p,n_trials,  rho, a, c)\n",
    "    [regret_par, regret_seq], [ratio_par, ratio_seq] = regretDistribution(n,p,n_trials,  rho, a, c)\n",
    "    vars_par.append(np.var(res_par))\n",
    "    vars_seq.append(np.var(res_seq))\n",
    "    regrets_par.append(np.mean(regret_par))\n",
    "    regrets_seq.append(np.mean(regret_seq))\n",
    "\n"
   ]
  },
  {
   "cell_type": "code",
   "execution_count": 266,
   "metadata": {},
   "outputs": [
    {
     "data": {
      "image/png": "[encoded data removed]",
      "text/plain": [
       "<Figure size 432x288 with 1 Axes>"
      ]
     },
     "metadata": {
      "needs_background": "light"
     },
     "output_type": "display_data"
    }
   ],
   "source": [
    "#plt.plot(ns, vars_par, label=\"Par\")\n",
    "#plt.plot(ns, vars_seq, label=\"Seq\")\n",
    "#plt.legend()\n",
    "#plt.xlabel(\"n\")\n",
    "#plt.ylabel(\"Variance\")\n",
    "#plt.title(\"Variance of Profit\")\n",
    "#plt.show()\n",
    "plt.plot(ps, regrets_par, label=\"Par\")\n",
    "plt.plot(ps, regrets_seq, label=\"Seq\")\n",
    "plt.xlabel(\"p\")\n",
    "plt.ylabel(\"Mean Regret\")\n",
    "plt.title(\"Mean Regret of Profit\")\n",
    "plt.legend()\n",
    "plt.savefig(\"results/RegretVP.png\")"
   ]
  },
  {
   "cell_type": "markdown",
   "metadata": {},
   "source": [
    "# Profit Distributions"
   ]
  },
  {
   "cell_type": "code",
   "execution_count": 179,
   "metadata": {},
   "outputs": [
    {
     "name": "stdout",
     "output_type": "stream",
     "text": [
      "p is  0.0007333333333333333\n",
      "p is  0.0009513410662136948\n",
      "p is  0.0011693487990940563\n",
      "p is  0.0013873565319744178\n",
      "p is  0.0016053642648547791\n",
      "p is  0.0018233719977351404\n",
      "p is  0.002041379730615502\n",
      "p is  0.0022593874634958635\n",
      "p is  0.002477395196376225\n",
      "p is  0.002695402929256586\n",
      "p is  0.0029134106621369477\n",
      "p is  0.003131418395017309\n",
      "p is  0.0033494261278976707\n",
      "p is  0.0035674338607780322\n",
      "p is  0.0037854415936583933\n",
      "p is  0.004003449326538755\n",
      "p is  0.004221457059419117\n",
      "p is  0.004439464792299478\n",
      "p is  0.004657472525179839\n",
      "p is  0.0048754802580602006\n"
     ]
    }
   ],
   "source": [
    "def specNorm(A: np.matrix) -> float:\n",
    "    return lin.norm(A, ord=1)\n",
    "\n",
    "vars_par = []\n",
    "vars_seq = []\n",
    "regrets_par = []\n",
    "regrets_seq = []\n",
    "n = 1500\n",
    "p0 = 1.1/n\n",
    "p1 = np.log(n)/n\n",
    "steps = 20\n",
    "ps = np.linspace(p0, p1, steps)\n",
    "for p in ps:\n",
    "    print(\"p is \", p)\n",
    "    n_trials = 15\n",
    "    rho = 0.9\n",
    "    a = 5\n",
    "    c = 4\n",
    "    [res_par, res_seq], [ratio_par, ratio_seq] = profitDistribution(n,p,n_trials,  rho, a, c)\n",
    "    [regret_par, regret_seq], [ratio_par, ratio_seq] = regretDistribution(n,p,n_trials,  rho, a, c)\n",
    "    vars_par.append(np.var(res_par))\n",
    "    vars_seq.append(np.var(res_seq))\n",
    "    regrets_par.append(np.mean(regret_par))\n",
    "    regrets_seq.append(np.mean(regret_seq))\n",
    "\n"
   ]
  },
  {
   "cell_type": "code",
   "execution_count": 185,
   "metadata": {},
   "outputs": [
    {
     "data": {
      "image/png": "[encoded data removed]",
      "text/plain": [
       "<Figure size 432x288 with 1 Axes>"
      ]
     },
     "metadata": {
      "needs_background": "light"
     },
     "output_type": "display_data"
    }
   ],
   "source": [
    "plt.plot(ps, regrets_par, label=\"Par\")\n",
    "plt.plot(ps, regrets_seq, label=\"Seq\")\n",
    "plt.xlabel(\"p\")\n",
    "plt.ylabel(\"Mean Regret\")\n",
    "plt.title(\"Mean Regret of Profit\")\n",
    "plt.legend()\n",
    "plt.savefig(\"results/profit_regret.png\")"
   ]
  },
  {
   "cell_type": "code",
   "execution_count": 193,
   "metadata": {},
   "outputs": [
    {
     "data": {
      "image/png": "[encoded data removed]",
      "text/plain": [
       "<Figure size 432x288 with 1 Axes>"
      ]
     },
     "metadata": {
      "needs_background": "light"
     },
     "output_type": "display_data"
    }
   ],
   "source": [
    "n = 2500\n",
    "p = np.sqrt(np.log(n))/n\n",
    "n_trials = 50\n",
    "[results_par, results_seq, opt] = rawProfitDistribution(n,p, n_trials, rho, a, c);\n"
   ]
  },
  {
   "cell_type": "code",
   "execution_count": 209,
   "metadata": {},
   "outputs": [
    {
     "data": {
      "image/png": "[encoded data removed]",
      "text/plain": [
       "<Figure size 432x288 with 1 Axes>"
      ]
     },
     "metadata": {
      "needs_background": "light"
     },
     "output_type": "display_data"
    }
   ],
   "source": [
    "plt.hist(results_par , label=\"Par\")\n",
    "plt.hist(results_seq, color=\"green\" , label=\"Seq\")\n",
    "plt.vlines(x=opt, linestyles='dashed', ymin=0, ymax=30, label=\"Optimal\")\n",
    "plt.legend()\n",
    "plt.xlabel(\"Profit\")\n",
    "plt.ylabel(\"Frequency\")\n",
    "plt.title(\"Profit Distribution\")\n",
    "plt.ylim(0,30)\n",
    "plt.savefig(\"results/profit_dist.png\")"
   ]
  },
  {
   "cell_type": "code",
   "execution_count": 210,
   "metadata": {},
   "outputs": [
    {
     "name": "stdout",
     "output_type": "stream",
     "text": [
      "Mean Profit 457.3698497211146\n",
      "Mean Profit 489.19017038886545\n",
      "True Optimal Profit 490.0304612989641\n",
      "Variance 14.377663783267547\n",
      "Variance 0.00845921418834001\n"
     ]
    }
   ],
   "source": [
    "print(\"Mean Profit\", np.mean(results_par))\n",
    "print(\"Mean Profit\", np.mean(results_seq))\n",
    "print(\"True Optimal Profit\", opt)\n",
    "print(\"Variance\", np.var(results_par))\n",
    "print(\"Variance\", np.var(results_seq))\n"
   ]
  },
  {
   "cell_type": "markdown",
   "metadata": {},
   "source": [
    "# Difffences in prices\n",
    "## As a function of N"
   ]
  },
  {
   "cell_type": "code",
   "execution_count": 255,
   "metadata": {},
   "outputs": [
    {
     "name": "stdout",
     "output_type": "stream",
     "text": [
      "100\n",
      "500\n",
      "1000\n",
      "1500\n",
      "2000\n",
      "2500\n",
      "3000\n"
     ]
    }
   ],
   "source": [
    "ns = [100, 500, 1000, 1500, 2000, 2500, 3000]\n",
    "dif__par_l1 = []\n",
    "dif__par_l2 = []\n",
    "dif__par_inf = []\n",
    "dif__seq_l1 = []\n",
    "dif__seq_l2 = []\n",
    "dif__seq_inf = []\n",
    "\n",
    "for n in ns:\n",
    "    print(n)\n",
    "    p = np.sqrt(np.log(n))/n\n",
    "    n_trials = 50\n",
    "    [results_par_l1, results_seq_l1] = priceVectorDifference(n,p, n_trials, rho, a, c,1);\n",
    "    [results_par_l2, results_seq_l2] = priceVectorDifference(n,p, n_trials, rho, a, c,2);\n",
    "    [results_par_inf, results_seq_inf] = priceVectorDifference(n,p, n_trials, rho, a, c,np.inf);\n",
    "    dif__par_l1.append(np.mean(results_par_l1))\n",
    "    dif__par_l2.append(np.mean(results_par_l2))\n",
    "    dif__par_inf.append(np.mean(results_par_inf))\n",
    "    dif__seq_l1.append(np.mean(results_seq_l1))\n",
    "    dif__seq_l2.append(np.mean(results_seq_l2))\n",
    "    dif__seq_inf.append(np.mean(results_seq_inf))\n",
    "\n",
    "\n",
    "\n"
   ]
  },
  {
   "cell_type": "code",
   "execution_count": 256,
   "metadata": {},
   "outputs": [],
   "source": [
    "dif__par_l1 = [dif__par_l1[i]/ns[i] for i in range(len(dif__par_l1))]\n",
    "dif__par_l2 = [dif__par_l2[i]/ns[i] for i in range(len(dif__par_l2))]\n",
    "dif__seq_l1 = [dif__seq_l1[i]/ns[i] for i in range(len(dif__seq_l1))]\n",
    "dif__seq_l2 = [dif__seq_l2[i]/ns[i] for i in range(len(dif__seq_l2))]"
   ]
  },
  {
   "cell_type": "code",
   "execution_count": 258,
   "metadata": {},
   "outputs": [
    {
     "data": {
      "image/png": "[encoded data removed]",
      "text/plain": [
       "<Figure size 432x288 with 1 Axes>"
      ]
     },
     "metadata": {
      "needs_background": "light"
     },
     "output_type": "display_data"
    },
    {
     "data": {
      "image/png": "[encoded data removed]",
      "text/plain": [
       "<Figure size 432x288 with 1 Axes>"
      ]
     },
     "metadata": {
      "needs_background": "light"
     },
     "output_type": "display_data"
    },
    {
     "data": {
      "image/png": "[encoded data removed]",
      "text/plain": [
       "<Figure size 432x288 with 1 Axes>"
      ]
     },
     "metadata": {
      "needs_background": "light"
     },
     "output_type": "display_data"
    }
   ],
   "source": [
    "plt.plot(ns, dif__par_l1, label=\"Par L1\")\n",
    "plt.plot(ns, dif__seq_l1, label=\"Seq L1\")\n",
    "plt.legend()\n",
    "plt.xlabel(\"n\")\n",
    "plt.ylabel(\"Expected Difference\")\n",
    "plt.title(\"Expected $\\ell_1$ Difference of Price Vector\")\n",
    "plt.savefig(\"results/aprice_vector_l1.png\")\n",
    "plt.show()\n",
    "plt.close()\n",
    "plt.plot(ns, dif__par_l2, label=\"Par L2\")\n",
    "plt.plot(ns, dif__seq_l2, label=\"Seq L2\")\n",
    "plt.legend()\n",
    "plt.xlabel(\"n\")\n",
    "plt.ylabel(\"Expected Difference\")\n",
    "plt.title(\"Expected $\\ell_2$ Difference of Price Vector\")\n",
    "plt.savefig(\"results/aprice_vector_l2.png\")\n",
    "plt.show()\n",
    "plt.close()\n",
    "plt.plot(ns, dif__par_inf, label=\"Par Inf\")\n",
    "plt.plot(ns, dif__seq_inf, label=\"Seq Inf\")\n",
    "plt.legend()\n",
    "plt.xlabel(\"n\")\n",
    "plt.ylabel(\"Expected Difference\")\n",
    "plt.title(\"Expected $\\ell_\\infty$ Difference of Price Vector\")\n",
    "plt.savefig(\"results/aprice_vector_inf.png\")\n"
   ]
  },
  {
   "cell_type": "markdown",
   "metadata": {},
   "source": [
    "## Function of p"
   ]
  },
  {
   "cell_type": "code",
   "execution_count": 268,
   "metadata": {},
   "outputs": [],
   "source": [
    "p0 = 1.1/n\n",
    "p1 = np.log(n)/n\n",
    "steps = 20\n",
    "ps = np.linspace(p0, p1, steps)\n",
    "dif__par_l1 = []\n",
    "dif__par_l2 = []\n",
    "dif__par_inf = []\n",
    "dif__seq_l1 = []\n",
    "dif__seq_l2 = []\n",
    "dif__seq_inf = []\n",
    "n=1500\n",
    "for p in ps:\n",
    "    n_trials = 50\n",
    "    [results_par_l1, results_seq_l1] = priceVectorDifference(n,p, n_trials, rho, a, c,1);\n",
    "    [results_par_l2, results_seq_l2] = priceVectorDifference(n,p, n_trials, rho, a, c,2);\n",
    "    [results_par_inf, results_seq_inf] = priceVectorDifference(n,p, n_trials, rho, a, c,np.inf);\n",
    "    dif__par_l1.append(np.mean(results_par_l1))\n",
    "    dif__par_l2.append(np.mean(results_par_l2))\n",
    "    dif__par_inf.append(np.mean(results_par_inf))\n",
    "    dif__seq_l1.append(np.mean(results_seq_l1))\n",
    "    dif__seq_l2.append(np.mean(results_seq_l2))\n",
    "    dif__seq_inf.append(np.mean(results_seq_inf))"
   ]
  },
  {
   "cell_type": "code",
   "execution_count": 269,
   "metadata": {},
   "outputs": [],
   "source": [
    "dif__par_l1 = [dif__par_l1[i]/1500 for i in range(len(dif__par_l1))]\n",
    "dif__par_l2 = [dif__par_l2[i]/1500 for i in range(len(dif__par_l2))]\n",
    "dif__seq_l1 = [dif__seq_l1[i]/1500 for i in range(len(dif__seq_l1))]\n",
    "dif__seq_l2 = [dif__seq_l2[i]/1500 for i in range(len(dif__seq_l2))]"
   ]
  },
  {
   "cell_type": "code",
   "execution_count": 273,
   "metadata": {},
   "outputs": [
    {
     "data": {
      "image/png": "[encoded data removed]",
      "text/plain": [
       "<Figure size 432x288 with 1 Axes>"
      ]
     },
     "metadata": {
      "needs_background": "light"
     },
     "output_type": "display_data"
    },
    {
     "data": {
      "image/png": "[encoded data removed]",
      "text/plain": [
       "<Figure size 432x288 with 1 Axes>"
      ]
     },
     "metadata": {
      "needs_background": "light"
     },
     "output_type": "display_data"
    },
    {
     "data": {
      "image/png": "[encoded data removed]",
      "text/plain": [
       "<Figure size 432x288 with 1 Axes>"
      ]
     },
     "metadata": {
      "needs_background": "light"
     },
     "output_type": "display_data"
    }
   ],
   "source": [
    "plt.plot(ps, dif__par_l1, label=\"Par L1\")\n",
    "plt.plot(ps, dif__seq_l1, label=\"Seq L1\")\n",
    "plt.legend()\n",
    "plt.xlabel(\"p\")\n",
    "plt.ylabel(\"Expected Difference\")\n",
    "plt.title(\"Expected $\\ell_1$ Difference of Price Vector\")\n",
    "plt.savefig(\"results/vdif_vp_l1.png\")\n",
    "plt.show()\n",
    "plt.plot(ps, dif__par_l2, label=\"Par L2\")\n",
    "plt.plot(ps, dif__seq_l2, label=\"Seq L2\")\n",
    "plt.legend()\n",
    "plt.xlabel(\"p\")\n",
    "plt.ylabel(\"Expected Difference\")\n",
    "plt.title(\"Expected $\\ell_2$ Difference of Price Vector\")\n",
    "plt.savefig(\"results/vdif_vp_l2.png\")\n",
    "plt.show()\n",
    "plt.plot(ps, dif__par_inf, label=\"Par Inf\")\n",
    "plt.plot(ps, dif__seq_inf, label=\"Seq Inf\")\n",
    "plt.legend()\n",
    "plt.xlabel(\"p\")\n",
    "plt.ylabel(\"Expected Difference\")\n",
    "plt.title(\"Expected $\\ell_\\infty$ Difference of Price Vector\")\n",
    "plt.savefig(\"results/vdif_vp_inf.png\")\n",
    "plt.show()"
   ]
  },
  {
   "cell_type": "markdown",
   "metadata": {},
   "source": [
    "# Averaged Vector"
   ]
  },
  {
   "cell_type": "code",
   "execution_count": 125,
   "metadata": {},
   "outputs": [
    {
     "name": "stdout",
     "output_type": "stream",
     "text": [
      "n is  100\n",
      "n is  500\n",
      "n is  1000\n",
      "n is  1500\n",
      "n is  2000\n",
      "n is  2500\n"
     ]
    }
   ],
   "source": [
    "ns = [100, 500, 1000, 1500, 2000, 2500]\n",
    "res_seq = []\n",
    "res_avg_seq = []\n",
    "steps = 10\n",
    "for n in ns:\n",
    "    print(\"n is \", n)\n",
    "    p = np.sqrt(np.log(n))/n\n",
    "    n_trials = 50\n",
    "    total_seq = 0\n",
    "    totalavg_seq = 0\n",
    "    for j in range(steps):\n",
    "        [par,seq, avg], [ratio_par, ratio_seq] = regretAveragedVector(n,p, n_trials, rho, a, c);\n",
    "        total_seq += np.average(seq)\n",
    "        totalavg_seq += avg\n",
    "    res_seq.append(total_seq/steps)\n",
    "    res_avg_seq.append(totalavg_seq/steps)\n",
    "\n",
    "    \n",
    "    \n"
   ]
  },
  {
   "cell_type": "code",
   "execution_count": 137,
   "metadata": {},
   "outputs": [
    {
     "data": {
      "image/png": "[encoded data removed]",
      "text/plain": [
       "<Figure size 432x288 with 1 Axes>"
      ]
     },
     "metadata": {
      "needs_background": "light"
     },
     "output_type": "display_data"
    }
   ],
   "source": [
    "ratios = [res_seq[i]/res_avg_seq[i] for i in range(len(res_seq))]\n",
    "plt.plot(ns, ratios, label=\"Ratio\")\n",
    "plt.xlabel(\"n\")\n",
    "plt.ylabel(\"Ratio of regrets \")\n",
    "plt.title(\"Ratio of Average Regret to Average Vector Difference\")\n",
    "plt.legend()\n",
    "#plt.savefig(\"results/\")\n"
   ]
  },
  {
   "cell_type": "code",
   "execution_count": 134,
   "metadata": {},
   "outputs": [
    {
     "data": {
      "image/png": "[encoded data removed]",
      "text/plain": [
       "<Figure size 432x288 with 1 Axes>"
      ]
     },
     "metadata": {
      "needs_background": "light"
     },
     "output_type": "display_data"
    }
   ],
   "source": [
    "plt.plot(ns, res_seq, label=\"Seq\")\n",
    "plt.plot(ns, res_avg_seq, label=\"Seq Avg\")\n",
    "plt.legend()\n",
    "plt.xlabel(\"n\")\n",
    "plt.ylabel(\"Regret\")\n",
    "plt.title(\"Regret of Averaged Vector and Same Sequence Vector\")\n",
    "plt.savefig(\"results/RegretAveragedVector.png\")"
   ]
  },
  {
   "cell_type": "code",
   "execution_count": 116,
   "metadata": {},
   "outputs": [
    {
     "name": "stdout",
     "output_type": "stream",
     "text": [
      "Regret Par 0.06708519163455745\n",
      "Regret Seq 0.0016099377768705903\n",
      "Regret Avg 0.0008099999724531237\n",
      "Variance 5.351546578418717e-05\n",
      "Variance 1.4382023333713627e-09\n"
     ]
    }
   ],
   "source": [
    "print(\"Regret Par\", np.mean(par))\n",
    "print(\"Regret Seq\", np.mean(seq))\n",
    "print(\"Regret Avg\", np.mean(avg))\n",
    "print(\"Variance\", np.var(par))\n",
    "print(\"Variance\", np.var(seq))"
   ]
  },
  {
   "cell_type": "code",
   "execution_count": null,
   "metadata": {},
   "outputs": [],
   "source": []
  }
 ],
 "metadata": {
  "interpreter": {
   "hash": "f8bf12b52825272ca753cd984c5229bfdc42f0a289f2d02e86b988d3513b4f71"
  },
  "kernelspec": {
   "display_name": "Python 3.8.10 64-bit ('pDL': conda)",
   "name": "python3"
  },
  "language_info": {
   "codemirror_mode": {
    "name": "ipython",
    "version": 3
   },
   "file_extension": ".py",
   "mimetype": "text/x-python",
   "name": "python",
   "nbconvert_exporter": "python",
   "pygments_lexer": "ipython3",
   "version": "3.8.10"
  },
  "toc-autonumbering": true
 },
 "nbformat": 4,
 "nbformat_minor": 5
}
